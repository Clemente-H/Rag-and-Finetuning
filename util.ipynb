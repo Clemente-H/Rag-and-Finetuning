{
 "cells": [
  {
   "cell_type": "code",
   "execution_count": 1,
   "metadata": {},
   "outputs": [],
   "source": [
    "import pandas as pd"
   ]
  },
  {
   "cell_type": "code",
   "execution_count": 2,
   "metadata": {},
   "outputs": [],
   "source": [
    "df = pd.read_csv('./Data/respuestas_preguntas_noticias_santiago_base_model.csv')"
   ]
  },
  {
   "cell_type": "code",
   "execution_count": 3,
   "metadata": {},
   "outputs": [
    {
     "data": {
      "text/html": [
       "<div>\n",
       "<style scoped>\n",
       "    .dataframe tbody tr th:only-of-type {\n",
       "        vertical-align: middle;\n",
       "    }\n",
       "\n",
       "    .dataframe tbody tr th {\n",
       "        vertical-align: top;\n",
       "    }\n",
       "\n",
       "    .dataframe thead th {\n",
       "        text-align: right;\n",
       "    }\n",
       "</style>\n",
       "<table border=\"1\" class=\"dataframe\">\n",
       "  <thead>\n",
       "    <tr style=\"text-align: right;\">\n",
       "      <th></th>\n",
       "      <th>q</th>\n",
       "      <th>true answer</th>\n",
       "      <th>model answer</th>\n",
       "    </tr>\n",
       "  </thead>\n",
       "  <tbody>\n",
       "    <tr>\n",
       "      <th>0</th>\n",
       "      <td>A inicios de enero de 2023, la ministra de Jus...</td>\n",
       "      <td>Verdadero</td>\n",
       "      <td>falso</td>\n",
       "    </tr>\n",
       "    <tr>\n",
       "      <th>1</th>\n",
       "      <td>El ministro de Justicia Luis Cordero asume su ...</td>\n",
       "      <td>Verdadero</td>\n",
       "      <td>falso</td>\n",
       "    </tr>\n",
       "    <tr>\n",
       "      <th>2</th>\n",
       "      <td>El presidente Boric indulto a 12 condenados po...</td>\n",
       "      <td>Verdadero</td>\n",
       "      <td>falso</td>\n",
       "    </tr>\n",
       "    <tr>\n",
       "      <th>3</th>\n",
       "      <td>Marcela Ríos se libró de una acusación constit...</td>\n",
       "      <td>Verdadero</td>\n",
       "      <td>falso</td>\n",
       "    </tr>\n",
       "    <tr>\n",
       "      <th>4</th>\n",
       "      <td>Gabriel Boric Font es un político Chileno que ...</td>\n",
       "      <td>Verdadero</td>\n",
       "      <td>verdadero</td>\n",
       "    </tr>\n",
       "    <tr>\n",
       "      <th>...</th>\n",
       "      <td>...</td>\n",
       "      <td>...</td>\n",
       "      <td>...</td>\n",
       "    </tr>\n",
       "    <tr>\n",
       "      <th>73</th>\n",
       "      <td>La comisión de expertos tiene un año para elab...</td>\n",
       "      <td>Falso</td>\n",
       "      <td>verdadero</td>\n",
       "    </tr>\n",
       "    <tr>\n",
       "      <th>74</th>\n",
       "      <td>Claudio Grossman es un miembro del consejo con...</td>\n",
       "      <td>Verdadero</td>\n",
       "      <td>falso</td>\n",
       "    </tr>\n",
       "    <tr>\n",
       "      <th>75</th>\n",
       "      <td>Estefanía Esparza (Partido Radical) es una mie...</td>\n",
       "      <td>Verdadero</td>\n",
       "      <td>falso</td>\n",
       "    </tr>\n",
       "    <tr>\n",
       "      <th>76</th>\n",
       "      <td>María Rojas es una miembra del consejo constit...</td>\n",
       "      <td>Falso</td>\n",
       "      <td>falso</td>\n",
       "    </tr>\n",
       "    <tr>\n",
       "      <th>77</th>\n",
       "      <td>Viviana Urquieta es un miembro del consejo con...</td>\n",
       "      <td>Falso</td>\n",
       "      <td>falso</td>\n",
       "    </tr>\n",
       "  </tbody>\n",
       "</table>\n",
       "<p>78 rows × 3 columns</p>\n",
       "</div>"
      ],
      "text/plain": [
       "                                                    q true answer  \\\n",
       "0   A inicios de enero de 2023, la ministra de Jus...   Verdadero   \n",
       "1   El ministro de Justicia Luis Cordero asume su ...   Verdadero   \n",
       "2   El presidente Boric indulto a 12 condenados po...   Verdadero   \n",
       "3   Marcela Ríos se libró de una acusación constit...   Verdadero   \n",
       "4   Gabriel Boric Font es un político Chileno que ...   Verdadero   \n",
       "..                                                ...         ...   \n",
       "73  La comisión de expertos tiene un año para elab...       Falso   \n",
       "74  Claudio Grossman es un miembro del consejo con...   Verdadero   \n",
       "75  Estefanía Esparza (Partido Radical) es una mie...   Verdadero   \n",
       "76  María Rojas es una miembra del consejo constit...       Falso   \n",
       "77  Viviana Urquieta es un miembro del consejo con...       Falso   \n",
       "\n",
       "    model answer  \n",
       "0          falso  \n",
       "1          falso  \n",
       "2          falso  \n",
       "3          falso  \n",
       "4      verdadero  \n",
       "..           ...  \n",
       "73     verdadero  \n",
       "74         falso  \n",
       "75         falso  \n",
       "76         falso  \n",
       "77         falso  \n",
       "\n",
       "[78 rows x 3 columns]"
      ]
     },
     "execution_count": 3,
     "metadata": {},
     "output_type": "execute_result"
    }
   ],
   "source": [
    "df"
   ]
  },
  {
   "cell_type": "code",
   "execution_count": 14,
   "metadata": {},
   "outputs": [
    {
     "name": "stdout",
     "output_type": "stream",
     "text": [
      "41\n"
     ]
    },
    {
     "name": "stderr",
     "output_type": "stream",
     "text": [
      "/tmp/ipykernel_28981/807849288.py:3: FutureWarning: Series.__getitem__ treating keys as positions is deprecated. In a future version, integer keys will always be treated as labels (consistent with DataFrame behavior). To access a value by position, use `ser.iloc[pos]`\n",
      "  if row[1].lower() == row[2].lower():\n"
     ]
    }
   ],
   "source": [
    "count = 0\n",
    "for i, row in df.iterrows():\n",
    "    if row[1].lower() == row[2].lower():\n",
    "        count = count +1\n",
    "\n",
    "print(count)"
   ]
  }
 ],
 "metadata": {
  "kernelspec": {
   "display_name": "Python (py311-micromamba)",
   "language": "python",
   "name": "py311"
  }
 },
 "nbformat": 4,
 "nbformat_minor": 2
}
