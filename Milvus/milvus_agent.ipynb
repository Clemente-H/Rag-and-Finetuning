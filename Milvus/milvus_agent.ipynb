{
 "cells": [
  {
   "cell_type": "markdown",
   "metadata": {},
   "source": [
    "# Milvus Agent"
   ]
  },
  {
   "cell_type": "markdown",
   "metadata": {},
   "source": [
    "### Milvus"
   ]
  },
  {
   "cell_type": "code",
   "execution_count": 2,
   "metadata": {},
   "outputs": [],
   "source": [
    "import os\n",
    "from pymilvus import MilvusClient, connections, FieldSchema, CollectionSchema, DataType, Collection, utility\n",
    "\n",
    "# Replace uri and token with your own\n",
    "client = MilvusClient(\n",
    "    uri=os.getenv(\"MILVUS_ENDPOINT\"),\n",
    "    token=os.getenv(\"MILVUS_API_KEY\") # API key or a colon-separated cluster username and password\n",
    ")\n",
    "\n",
    "# Connect to cluster\n",
    "connections.connect(\n",
    "  alias='default',\n",
    "  # Public endpoint obtained from Zilliz Cloud\n",
    "  uri=os.getenv(\"MILVUS_ENDPOINT\"),\n",
    "  # API key or a colon-separated cluster username and password\n",
    "  token=os.getenv(\"MILVUS_API_KEY\")\n",
    ")"
   ]
  },
  {
   "cell_type": "code",
   "execution_count": 26,
   "metadata": {},
   "outputs": [],
   "source": [
    "from pymilvus import Collection\n",
    "collection = Collection(\"News_2023\")      # Get an existing collection.\n",
    "collection.load()"
   ]
  },
  {
   "cell_type": "code",
   "execution_count": 37,
   "metadata": {},
   "outputs": [
    {
     "data": {
      "text/plain": [
       "array([-0.13902153,  0.06297969,  0.12189946, -0.15383331,  0.08737598,\n",
       "        0.15639697, -0.11988122,  0.01344451,  0.02991877,  0.3828121 ,\n",
       "        0.02800514, -0.03443082, -0.39853036,  0.25623912,  0.12761955,\n",
       "        0.1216578 , -0.14694041, -0.31341937, -0.02103888,  0.17736349,\n",
       "        0.39888558,  0.13457789, -0.02190801, -0.28505543, -0.1663533 ,\n",
       "       -0.06352693, -0.12871332,  0.0229103 , -0.03431107, -0.17860012,\n",
       "       -0.08872243, -0.06442707,  0.39241984,  0.04267769,  0.14347081,\n",
       "       -0.0277954 ,  0.22695011,  0.08359052,  0.22287366,  0.24982116,\n",
       "        0.03286254,  0.00724386, -0.147435  ,  0.05207216,  0.34002858,\n",
       "       -0.30910796, -0.02211615,  0.03677581, -0.03282573, -0.08547797,\n",
       "       -0.11395331,  0.18369544,  0.3546018 ,  0.1734595 , -0.07541618,\n",
       "       -0.1642773 ,  0.06981933, -0.07859086,  0.09296937,  0.06477956,\n",
       "       -0.21263257,  0.37822843, -0.31583673,  0.08498256, -0.13836181,\n",
       "        0.04286056,  0.15013874,  0.0503443 , -0.0175321 , -0.1452188 ,\n",
       "       -0.23584066, -0.07392333, -0.03505177, -0.2038284 , -0.3615701 ,\n",
       "       -0.05600836,  0.03013392,  0.30673844,  0.1586989 , -0.05973818,\n",
       "        0.0509836 ,  0.02312123, -0.3830958 , -0.05265998, -0.23538955,\n",
       "        0.04611586, -0.04727985,  0.03103573, -0.04414796, -0.15824902,\n",
       "        0.23303498,  0.03410351,  0.3941223 ,  0.12722479, -0.29526728,\n",
       "        0.14291953,  0.1694864 , -0.17767443, -0.00118002, -0.17389263,\n",
       "        0.02908052,  0.29143918, -0.13633841, -0.03246762,  0.04270043,\n",
       "        0.4191277 ,  0.01696   , -0.08048164,  0.10722507, -0.16086003,\n",
       "        0.08292567, -0.26044902,  0.09164602, -0.08562943,  0.02825471,\n",
       "        0.4061665 , -0.23004541,  0.14755933,  0.18516795, -0.10659797,\n",
       "        0.19218184, -0.07435619, -0.28632206, -0.24984074,  0.19163077,\n",
       "        0.10672592,  0.05771524,  0.09882266,  0.17865476, -0.14124045,\n",
       "       -0.18857852,  0.19554771, -0.2485344 ,  0.13724244, -0.05106799,\n",
       "        0.04007353,  0.22015129,  0.38067225, -0.16101335, -0.12408059,\n",
       "       -0.05777689, -0.00245816, -0.21119273,  0.18261836,  0.03122987,\n",
       "       -0.19358237,  0.11648327, -0.0957834 ,  0.08117025, -0.13766485,\n",
       "       -0.12496848, -0.31715986,  0.62862736,  0.315387  ,  0.13014956,\n",
       "       -0.2719829 ,  0.26869652,  0.15780441,  0.06629246, -0.00603254,\n",
       "       -0.13661738,  0.22860411, -0.05438128,  0.11628935,  0.15658261,\n",
       "        0.12480235,  0.13798925,  0.23164125, -0.0940308 ,  0.03865772,\n",
       "       -0.01223297, -0.03128069,  0.01317286, -0.26364824,  0.13160016,\n",
       "       -0.2837494 ,  0.2732308 , -0.02629599, -0.08238659, -0.02368836,\n",
       "        0.16540977,  0.11378221, -0.08800274, -0.26384568, -0.30490115,\n",
       "        0.13801059, -0.0311193 ,  0.10602455, -0.04144445, -0.20311372,\n",
       "       -0.06664918,  0.20331697, -0.15195529,  0.07357189, -0.09923818,\n",
       "       -0.1822576 ,  0.05776601, -0.04343698, -0.09788674, -0.00449432,\n",
       "       -0.4181235 , -0.2990492 , -0.2669927 , -0.16995393, -0.1374777 ,\n",
       "        0.03064657, -0.23316482,  0.07835895, -0.056336  ,  0.02251761,\n",
       "        0.20083149,  0.1293987 ,  0.22425184, -0.20339824,  0.1756273 ,\n",
       "        0.3052891 ,  0.30728015,  0.07518799, -0.14583035,  0.06192401,\n",
       "        0.21667191,  0.47066823,  0.20021409, -0.00503427,  0.01895251,\n",
       "        0.10156795,  0.1385909 ,  0.16326821,  0.04078767,  0.14806989,\n",
       "        0.0462771 ,  0.18088618,  0.12253956, -0.39235604, -0.13383028,\n",
       "        0.31889713,  0.62890154,  0.00166938, -0.11846447,  0.23110794,\n",
       "       -0.11578014, -0.37937152, -0.362898  , -0.04269124, -0.14971489,\n",
       "        0.07598753, -0.3093241 ,  0.06206937,  0.28605482, -0.07515162,\n",
       "        0.22137971, -0.18645306,  0.06545559, -0.03415382, -0.04088068,\n",
       "       -0.05673252, -0.2267711 ,  0.00870132,  0.18656558, -0.15559155,\n",
       "       -0.03948782, -0.0019682 ,  0.21097021,  0.3736916 , -0.01035207,\n",
       "       -0.04575765,  0.25655532, -0.02441195, -0.00798579, -0.2463035 ,\n",
       "       -0.15309034, -0.09171975, -0.01384722, -0.04260615, -0.23297669,\n",
       "       -0.00855061, -0.02464763,  0.02347371,  0.08516652,  0.14326055,\n",
       "       -0.04705746,  0.12041674, -0.31067148,  0.20699117, -0.05422602,\n",
       "        0.1259446 ,  0.01987021, -0.339468  , -0.01808804,  0.16794436,\n",
       "       -0.0459599 , -0.2851271 ,  0.24121682,  0.14115731,  0.40791428,\n",
       "       -0.07592252, -0.46800053,  0.12491215,  0.0489429 ,  0.11336363,\n",
       "        0.00681373, -0.05931752, -0.08083215,  0.18351887, -0.04056493,\n",
       "        0.35370174,  0.02540316,  0.00999893, -0.36627123,  0.24242777,\n",
       "        0.18943349, -0.2064897 ,  0.21643244, -0.13925166,  0.00558971,\n",
       "       -0.22006172, -0.1469241 , -0.44282606,  0.06416296,  0.07662739,\n",
       "        0.2276252 , -0.0435156 , -0.22537212,  0.00657622, -0.08085536,\n",
       "        0.01969221, -0.19697255, -0.32416546, -0.04735266, -0.1543665 ,\n",
       "        0.32280007,  0.07913181,  0.05550584, -0.0368801 , -0.18750516,\n",
       "       -0.18663743, -0.08180119,  0.08639862, -0.23215438,  0.08737493,\n",
       "        0.12684345, -0.082311  , -0.08190674, -0.06018455, -0.10260012,\n",
       "       -0.1865622 , -0.17011264,  0.01070215, -0.34079945,  0.01337088,\n",
       "       -0.18055902, -0.02658696, -0.28517494, -0.04494522, -0.09714058,\n",
       "        0.12962921,  0.06605112, -0.08932668, -0.0998518 , -0.10907505,\n",
       "        0.48310578,  0.13035256, -0.00377495, -0.01701553, -0.21111494,\n",
       "       -0.22741865,  0.12365732, -0.09285781,  0.28793207,  0.16398296,\n",
       "        0.09273802,  0.1511247 ,  0.12956229, -0.18042101,  0.38099402,\n",
       "        0.04584864,  0.02726928,  0.1706554 , -0.4044777 ,  0.02585339,\n",
       "       -0.14942825, -0.348214  , -0.12967624, -0.11665934], dtype=float32)"
      ]
     },
     "execution_count": 37,
     "metadata": {},
     "output_type": "execute_result"
    }
   ],
   "source": [
    "model.encode(\"El ministro de Justicia Luis Cordero asume su cargo en enero del 2023\")"
   ]
  },
  {
   "cell_type": "code",
   "execution_count": 27,
   "metadata": {},
   "outputs": [],
   "source": [
    "from typing import List, Any\n",
    "from langchain.tools import tool\n",
    "from langchain.pydantic_v1 import BaseModel, Field\n",
    "from sentence_transformers import SentenceTransformer\n",
    "# Cargar el modelo de Sentence Transformers y moverlo a CUDA si está disponible\n",
    "model_name = \"sentence-transformers/paraphrase-multilingual-MiniLM-L12-v2\"\n",
    "model = SentenceTransformer(model_name)\n",
    "\n",
    "@tool('milvus_query_results')\n",
    "def milvus_query_results(query: dict) -> List[Any]:\n",
    "    \"Gives a list of document found by the query\"\n",
    "    query = query['title']\n",
    "    vect = model.encode(query)\n",
    "    results = collection.search(\n",
    "        data=[vect], \n",
    "        anns_field=\"vector\", \n",
    "        param={\"metric_type\": \"L2\", \"params\": {\"nprobe\": 1}}, \n",
    "        limit=5, \n",
    "        expr=None,\n",
    "        consistency_level=\"Strong\"\n",
    "    )\n",
    "    ids = results[0].ids\n",
    "    res = collection.query(\n",
    "        expr =f\"\"\"id in {ids}\"\"\" , \n",
    "        output_fields = [\"body\"],\n",
    "        consistency_level=\"Strong\"\n",
    "    )\n",
    "    return res"
   ]
  },
  {
   "cell_type": "code",
   "execution_count": 38,
   "metadata": {},
   "outputs": [],
   "source": [
    "vect = model.encode('El ministro de Justicia Luis Cordero asume su cargo en enero del 2023')\n",
    "results = collection.search(\n",
    "    data=[vect], \n",
    "    anns_field=\"vector\", \n",
    "    param={\"metric_type\": \"L2\", \"params\": {\"nprobe\": 1}}, \n",
    "    limit=5, \n",
    "    expr=None,\n",
    "    consistency_level=\"Strong\"\n",
    ")"
   ]
  },
  {
   "cell_type": "markdown",
   "metadata": {},
   "source": [
    "### LLM and Agent-Chain"
   ]
  },
  {
   "cell_type": "code",
   "execution_count": 28,
   "metadata": {},
   "outputs": [],
   "source": [
    "tools = [milvus_query_results]"
   ]
  },
  {
   "cell_type": "code",
   "execution_count": 29,
   "metadata": {},
   "outputs": [],
   "source": [
    "from langchain_together import Together\n",
    "import os\n",
    "from dotenv import load_dotenv\n",
    "load_dotenv()\n",
    "\n",
    "llm = Together(\n",
    "    model=\"mistralai/Mixtral-8x7B-Instruct-v0.1\",\n",
    "    temperature=0,\n",
    "    max_tokens=1024,\n",
    "    top_k=1,\n",
    "    together_api_key=os.getenv(\"TOGETHER_API_KEY\")\n",
    ")"
   ]
  },
  {
   "cell_type": "code",
   "execution_count": 19,
   "metadata": {},
   "outputs": [],
   "source": [
    "\n",
    "DEFAULT_TEMPLATE = \"\"\"Eres un asistente de IA especializado en verificar hechos sobre la realidad chilena en el año 2023. \n",
    "Tu deber es verificar la veracidad de las afirmaciones presentadas relacionadas con eventos, situaciones o datos sobre Chile durante el año 2023, y responder si son verdaderas o falsas de manera concisa, sin proporcionar explicaciones adicionales. \n",
    "Para revisar si la afirmacion es correcta, harás una consulta a una base de datos con la siguiente herramienta:\n",
    "\n",
    "Herramientas:\n",
    "{tools}\n",
    "\n",
    "Si no tienes suficiente información en tu base de conocimientos para determinar la veracidad de una afirmación sobre la realidad chilena en 2023, debes responder honestamente que no lo sabes. \n",
    "Tus respuestas deben ser siempre en español.\n",
    "\n",
    "Luego de obtener las informacion de la base de datos, debes responder unicamente con 'Verdadero', 'Falso' o 'No lo sé' a la afirmación sobre la realidad chilena en 2023: \n",
    "    \n",
    "Use a json blob to specify a tool by providing an action key (tool name) and an action_input key (tool input).\n",
    "\n",
    "Valid \"action\" values: \"Final Answer\" or {tool_names}\n",
    "\n",
    "Provide only ONE action per $JSON_BLOB, as shown:\n",
    "\n",
    "```\n",
    "{{\n",
    "    \"action\": $TOOL_NAME,\n",
    "    \"action_input\": $INPUT\n",
    "}}```\n",
    "\n",
    "Follow this format:\n",
    "\n",
    "Question: input question to answer\n",
    "Thought: consider previous and subsequent steps\n",
    "Action:\n",
    "```\n",
    "$JSON_BLOB\n",
    "```\n",
    "    Observation: action result\n",
    "    ... (repeat Thought/Action/Observation N times)\n",
    "    Thought: I know what to respond\n",
    "        Action:\n",
    "        ```\n",
    "            {{\n",
    "                \"action\": \"Final Answer\",\n",
    "                \"action_input\": \"Final response to human\"\n",
    "            }}\n",
    "            \n",
    "For example, if you want to use a tool to make a query to the vectore store database, your $JSON_BLOB might look like this:\n",
    "\n",
    "```\n",
    "{{\n",
    "    'action': 'vector_store_query_json', \n",
    "    'action_input': {{'query': 'Example query'}}\n",
    "}}```\n",
    "\n",
    "Begin! Reminder to ALWAYS respond with a valid json blob of a single action. Use tools if necessary. Respond directly if appropriate. Format is Action:```$JSON_BLOB```then Observation'\n",
    "\"\"\""
   ]
  },
  {
   "cell_type": "code",
   "execution_count": 30,
   "metadata": {},
   "outputs": [],
   "source": [
    "DEFAULT_TEMPLATE = \"\"\"You are a helpfull AI assistant that helps to makes querys to a vectore store database given a human consult of a specific topic.\n",
    "The AI gives information and explanation from the results of the query.\n",
    "The AI is talkative and provides a lot of specific details of its context.\n",
    "If the AI does not know the answer to the question, it will truthfully sai it does not know.\n",
    "\n",
    "You have access to the following tools:\n",
    "{tools}\n",
    "\n",
    "Use a json blob to specify a tool by providing an action key (tool name) and an action_input key (tool input).\n",
    "\n",
    "Valid \"action\" values: \"Final Answer\" or {tool_names}\n",
    "\n",
    "Provide only ONE action per $JSON_BLOB, as shown:\n",
    "\n",
    "```\n",
    "{{\n",
    "    \"action\": $TOOL_NAME,\n",
    "    \"action_input\": $INPUT\n",
    "}}```\n",
    "\n",
    "Follow this format:\n",
    "\n",
    "Question: input question to answer\n",
    "Thought: consider previous and subsequent steps\n",
    "Action:\n",
    "```\n",
    "$JSON_BLOB\n",
    "```\n",
    "    Observation: action result\n",
    "    ... (repeat Thought/Action/Observation N times)\n",
    "    Thought: I know what to respond\n",
    "        Action:\n",
    "        ```\n",
    "            {{\n",
    "                \"action\": \"Final Answer\",\n",
    "                \"action_input\": \"Final response to human\"\n",
    "            }}\n",
    "            \n",
    "For example, if you want to use a tool to make a query to the vectore store database, your $JSON_BLOB might look like this:\n",
    "\n",
    "```\n",
    "{{\n",
    "    'action': 'vector_store_query_json', \n",
    "    'action_input': {{'query': 'Example query'}}\n",
    "}}```\n",
    "\n",
    "Begin! Reminder to ALWAYS respond with a valid json blob of a single action. Use tools if necessary. Respond directly if appropriate. Format is Action:```$JSON_BLOB```then Observation'\n",
    "\"\"\"\n"
   ]
  },
  {
   "cell_type": "code",
   "execution_count": 31,
   "metadata": {},
   "outputs": [],
   "source": [
    "from langchain import hub\n",
    "prompt = hub.pull(\"hwchase17/structured-chat-agent\")\n",
    "#prompt[0].prompt.template = prompt[0].prompt.template[0:394] + \"```\\n\\n\\nFor example, if you want to use a tool to get an image's caption, your $JSON_BLOB might look like this:\\n\\n```\\n{{\\n    'action': 'image_captioner_json', \\n    'action_input': {{'query': 'images url'}}\\n}}```\" + \"```\\n\\n\\nIf you want to use a tool to search for information, your $JSON_BLOB might look like this:\\n\\n```\\n{{\\n    'action': 'tavily_search_results_json', \\n    'action_input': {{'query': 'Example search query'}}\\n}}```\"  +prompt[0].prompt.template[394:]\n"
   ]
  },
  {
   "cell_type": "code",
   "execution_count": 32,
   "metadata": {},
   "outputs": [],
   "source": [
    "prompt[0].prompt.template = DEFAULT_TEMPLATE"
   ]
  },
  {
   "cell_type": "code",
   "execution_count": 33,
   "metadata": {},
   "outputs": [],
   "source": [
    "from langchain.agents import create_openai_functions_agent\n",
    "from langchain.agents import AgentExecutor, create_openai_tools_agent, create_structured_chat_agent\n",
    "#agent = create_openai_tools_agent(llm,tools,prompt)\n",
    "agent = create_structured_chat_agent(llm, tools, prompt)"
   ]
  },
  {
   "cell_type": "code",
   "execution_count": 34,
   "metadata": {},
   "outputs": [],
   "source": [
    "from langchain.agents import AgentExecutor\n",
    "\n",
    "agent_executor = AgentExecutor(agent=agent, tools=tools, verbose=True, handle_parsing_errors=True)"
   ]
  },
  {
   "cell_type": "code",
   "execution_count": 35,
   "metadata": {},
   "outputs": [
    {
     "name": "stdout",
     "output_type": "stream",
     "text": [
      "\n",
      "\n",
      "\u001b[1m> Entering new AgentExecutor chain...\u001b[0m\n",
      "\u001b[32;1m\u001b[1;3m\n",
      "\n",
      "Action:\n",
      "```\n",
      "{\n",
      "    \"action\": \"milvus_query_results\",\n",
      "    \"action_input\": {\n",
      "        \"query\": {\n",
      "            \"title\": \"Ministro de Justicia Luis Cordero\",\n",
      "            \"type\": \"object\"\n",
      "        }\n",
      "    }\n",
      "}\n",
      "```\n",
      "\u001b[0m\u001b[36;1m\u001b[1;3m[]\u001b[0m\u001b[32;1m\u001b[1;3m\n",
      "\n",
      "Action:\n",
      "```\n",
      "{\n",
      "    \"action\": \"Final Answer\",\n",
      "    \"action_input\": \"There is no information about the Minister of Justice Luis Cordero in the database.\"\n",
      "}\n",
      "```\u001b[0m\n",
      "\n",
      "\u001b[1m> Finished chain.\u001b[0m\n"
     ]
    },
    {
     "data": {
      "text/plain": [
       "{'input': 'El ministro de Justicia Luis Cordero asume su cargo en enero del 2023',\n",
       " 'output': 'There is no information about the Minister of Justice Luis Cordero in the database.'}"
      ]
     },
     "execution_count": 35,
     "metadata": {},
     "output_type": "execute_result"
    }
   ],
   "source": [
    "agent_executor.invoke({\"input\": \"El ministro de Justicia Luis Cordero asume su cargo en enero del 2023\"})"
   ]
  },
  {
   "cell_type": "code",
   "execution_count": 36,
   "metadata": {},
   "outputs": [
    {
     "name": "stdout",
     "output_type": "stream",
     "text": [
      "\n",
      "\n",
      "\u001b[1m> Entering new AgentExecutor chain...\u001b[0m\n",
      "\u001b[32;1m\u001b[1;3m\n",
      "\n",
      "Action:\n",
      "```\n",
      "{\n",
      "    \"action\": \"milvus_query_results\",\n",
      "    \"action_input\": {\n",
      "        \"query\": {\n",
      "            \"title\": \"Terremoto\",\n",
      "            \"type\": \"object\"\n",
      "        }\n",
      "    }\n",
      "}\n",
      "```\n",
      "\u001b[0m\u001b[36;1m\u001b[1;3m[]\u001b[0m\u001b[32;1m\u001b[1;3m\n",
      "\n",
      "Action:\n",
      "```\n",
      "{\n",
      "    \"action\": \"Final Answer\",\n",
      "    \"action_input\": \"I'm sorry, I couldn't find any information related to 'Terremoto'. Could you please provide more context or specify your question?\"\n",
      "}\n",
      "```\u001b[0m\n",
      "\n",
      "\u001b[1m> Finished chain.\u001b[0m\n"
     ]
    },
    {
     "data": {
      "text/plain": [
       "{'input': 'Terremoto',\n",
       " 'output': \"I'm sorry, I couldn't find any information related to 'Terremoto'. Could you please provide more context or specify your question?\"}"
      ]
     },
     "execution_count": 36,
     "metadata": {},
     "output_type": "execute_result"
    }
   ],
   "source": [
    "agent_executor.invoke({\"input\": \"Terremoto\"})"
   ]
  },
  {
   "cell_type": "code",
   "execution_count": null,
   "metadata": {},
   "outputs": [],
   "source": [
    "import pandas as pd\n",
    "from sentence_transformers import SentenceTransformer\n",
    "from langchain.text_splitter import SentenceTransformersTokenTextSplitter\n",
    "from tqdm.auto import tqdm\n",
    "import torch\n",
    "import os\n",
    "from pymilvus import MilvusClient, connections, FieldSchema, CollectionSchema, DataType, Collection, utility\n",
    "import json\n",
    "import re\n",
    "import argparse\n",
    "import os.path\n",
    "from dotenv import load_dotenv\n",
    "\n",
    "# Carga las variables de entorno desde el archivo .env\n",
    "load_dotenv()\n",
    "\n",
    "ruta_archivo = '../Data/2023_cleaned_embeddings.json'\n",
    "\n",
    "\n",
    "with open(ruta_archivo, 'r') as f:\n",
    "    data = json.load(f)\n",
    "\n",
    "# Replace uri and token with your own\n",
    "client = MilvusClient(\n",
    "    uri=os.getenv(\"MILVUS_ENDPOINT\"),\n",
    "    token=os.getenv(\"MILVUS_API_KEY\")  # API key or a colon-separated cluster username and password\n",
    ")\n",
    "\n",
    "# Connect to cluster\n",
    "connections.connect(\n",
    "    alias='default',\n",
    "    # Public endpoint obtained from Zilliz Cloud\n",
    "    uri=os.getenv(\"MILVUS_ENDPOINT\"),\n",
    "    # API key or a colon-separated cluster username and password\n",
    "    token=os.getenv(\"MILVUS_API_KEY\")\n",
    ")\n",
    "print(os.getenv(\"MILVUS_API_KEY\"))\n",
    "# Definimos el tamaño del bloque\n",
    "block_size = 1000\n",
    "\n",
    "# Iteramos sobre los bloques\n",
    "for i in range(0, len(data['rows']), block_size):\n",
    "    res = client.insert(\n",
    "        collection_name='News_2023',\n",
    "        data=data['rows'][i:i + block_size]\n",
    "    )\n",
    "    print('Insertando bloque ' + str(i))\n",
    "\n",
    "print(\"Data insertada correctamente\")"
   ]
  }
 ],
 "metadata": {
  "kernelspec": {
   "display_name": "Python (py311-micromamba)",
   "language": "python",
   "name": "py311"
  },
  "language_info": {
   "codemirror_mode": {
    "name": "ipython",
    "version": 3
   },
   "file_extension": ".py",
   "mimetype": "text/x-python",
   "name": "python",
   "nbconvert_exporter": "python",
   "pygments_lexer": "ipython3",
   "version": "3.11.7"
  }
 },
 "nbformat": 4,
 "nbformat_minor": 2
}
