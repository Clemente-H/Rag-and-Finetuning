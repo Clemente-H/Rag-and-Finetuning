{
  "cells": [
    {
      "cell_type": "markdown",
      "metadata": {},
      "source": [
        "# Generar Queries para evaluar y entrenar con Mistral\n",
        "\n",
        "Para generar las queries de evaluación y entrenamiento, utilizamos Mistral-7b\n",
        "\n",
        "En base a un considerando de una consulta se pide que se genere una consulta que deberia retornar este considerando\n",
        "\n"
      ]
    },
    {
      "cell_type": "code",
      "execution_count": 30,
      "metadata": {},
      "outputs": [],
      "source": [
        "from __future__ import annotations\n",
        "\n",
        "import logging\n",
        "import os\n",
        "import re\n",
        "from functools import lru_cache, partial, wraps\n",
        "from typing import Tuple\n",
        "\n",
        "import openai\n",
        "from dotenv import load_dotenv\n",
        "\n",
        "load_dotenv()\n",
        "\n",
        "logging.basicConfig(level=logging.INFO)\n",
        "logger = logging.getLogger(__name__)\n",
        "\n",
        "# https://api.together.xyz/settings/api-keys\n",
        "TOGETHER_API_KEY = os.getenv(\"TOGETHER_API_KEY\")\n",
        "\n",
        "client = openai.OpenAI(\n",
        "    api_key=TOGETHER_API_KEY,\n",
        "    base_url=\"https://api.together.xyz\",\n",
        ")\n"
      ]
    },
    {
      "cell_type": "code",
      "execution_count": 31,
      "metadata": {},
      "outputs": [],
      "source": [
        "BASE_PROMPT = {\n",
        "    \"role\":\"system\",\n",
        "    \"content\":\"\"\"You are an intelligent query generator. Your task is to create a detailed and relevant search query in Spanish based on the given paragraph. \n",
        "    The query should be more than just a keyword; it should reflect the main themes or ideas of the paragraph in a way that, when used in a semantic search engine, \n",
        "    would likely return the given paragraph as a top result. \n",
        "    -Based on the following paragraph, create a search query in Spanish that captures the essence of this text.\n",
        "    -Respond only with the query.\n",
        "    -The response should not have more than 100 words\n",
        "    -Don't give explanations\n",
        "    -Never elaborate\n",
        "\"\"\"\n",
        "}\n",
        "CONTENT_PROMPT = \"\"\"Paragraph: {parrafo}\n",
        "query:\"\"\"\n",
        "    \n",
        "queries = partial(\n",
        "    client.chat.completions.create,\n",
        "    model=\"mistralai/Mixtral-8x7B-Instruct-v0.1\",\n",
        "    max_tokens=1024,\n",
        ")\n",
        "\n",
        "def cache_with_logging(maxsize=1024) -> callable:\n",
        "    \"like lru_cache but logs cache hits\"\n",
        "\n",
        "    def decorator(func):\n",
        "        cached_func = lru_cache(maxsize=maxsize)(func)\n",
        "\n",
        "        @wraps(func)\n",
        "        def wrapper(*args, **kwargs):\n",
        "            hits_before = cached_func.cache_info().hits\n",
        "            result = cached_func(*args, **kwargs)\n",
        "            hits_after = cached_func.cache_info().hits\n",
        "            if hits_after > hits_before:\n",
        "                logger.info(f\"Cache hit for args: {args}, kwargs: {kwargs}\")\n",
        "            return result\n",
        "\n",
        "        return wrapper\n",
        "\n",
        "    return decorator\n",
        "\n",
        "# use maxsize = number of query, context pairs or None for unlimited (not in production)\n",
        "@cache_with_logging(maxsize=None)\n",
        "def gen_query(paragraph:str) -> str:\n",
        "    response = queries(\n",
        "        messages=[\n",
        "            BASE_PROMPT,\n",
        "            {\n",
        "                \"role\": \"user\",\n",
        "                \"content\": CONTENT_PROMPT.format(parrafo=paragraph),\n",
        "            },\n",
        "        ]\n",
        "    )\n",
        "    return response.choices[0].message.content\n"
      ]
    },
    {
      "cell_type": "code",
      "execution_count": 5,
      "metadata": {},
      "outputs": [],
      "source": [
        "import pandas as pd"
      ]
    },
    {
      "cell_type": "code",
      "execution_count": 6,
      "metadata": {},
      "outputs": [],
      "source": [
        "df = pd.read_json('../../../../golden_dataset.jsonl', lines=True, encoding='utf-8')"
      ]
    },
    {
      "cell_type": "code",
      "execution_count": 7,
      "metadata": {},
      "outputs": [],
      "source": [
        "df2 = df.sample(100)"
      ]
    },
    {
      "cell_type": "code",
      "execution_count": null,
      "metadata": {},
      "outputs": [],
      "source": [
        "%%time\n",
        "import json\n",
        "output_json_file = './queries_mixtral.jsonl'\n",
        "\n",
        "for i, row in df2.iterrows():\n",
        "    completition = gen_query(row.text)\n",
        "    respuesta = {\n",
        "        'id':row.CRR_DOCUMENTO_ID,\n",
        "        'query':completition,\n",
        "        'text':row.text,\n",
        "    }\n",
        "    print(row.CRR_DOCUMENTO_ID)\n",
        "    with open(output_json_file, \"a\") as file:\n",
        "        json.dump(respuesta, file)\n",
        "        file.write(\"\\n\")\n",
        "\n"
      ]
    }
  ],
  "metadata": {
    "accelerator": "GPU",
    "colab": {
      "gpuType": "T4",
      "provenance": []
    },
    "kernelspec": {
      "display_name": "Python 3",
      "name": "python3"
    },
    "language_info": {
      "codemirror_mode": {
        "name": "ipython",
        "version": 3
      },
      "file_extension": ".py",
      "mimetype": "text/x-python",
      "name": "python",
      "nbconvert_exporter": "python",
      "pygments_lexer": "ipython3",
      "version": "3.11.5"
    }
  },
  "nbformat": 4,
  "nbformat_minor": 0
}
