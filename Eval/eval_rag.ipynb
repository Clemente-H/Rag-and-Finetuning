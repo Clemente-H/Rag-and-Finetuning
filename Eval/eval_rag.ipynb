{
 "cells": [
  {
   "cell_type": "code",
   "execution_count": 1,
   "metadata": {},
   "outputs": [
    {
     "data": {
      "text/plain": [
       "True"
      ]
     },
     "execution_count": 1,
     "metadata": {},
     "output_type": "execute_result"
    }
   ],
   "source": [
    "from langchain.vectorstores import Milvus\n",
    "from dotenv import load_dotenv\n",
    "import os\n",
    "import pandas as pd\n",
    "\n",
    "load_dotenv()"
   ]
  },
  {
   "cell_type": "code",
   "execution_count": 2,
   "metadata": {},
   "outputs": [],
   "source": [
    "df = pd.read_csv('../Data/preguntas_noticias_santiago.csv')"
   ]
  },
  {
   "cell_type": "code",
   "execution_count": 3,
   "metadata": {},
   "outputs": [
    {
     "data": {
      "text/html": [
       "<div>\n",
       "<style scoped>\n",
       "    .dataframe tbody tr th:only-of-type {\n",
       "        vertical-align: middle;\n",
       "    }\n",
       "\n",
       "    .dataframe tbody tr th {\n",
       "        vertical-align: top;\n",
       "    }\n",
       "\n",
       "    .dataframe thead th {\n",
       "        text-align: right;\n",
       "    }\n",
       "</style>\n",
       "<table border=\"1\" class=\"dataframe\">\n",
       "  <thead>\n",
       "    <tr style=\"text-align: right;\">\n",
       "      <th></th>\n",
       "      <th>q</th>\n",
       "      <th>true answer</th>\n",
       "      <th>ft-base</th>\n",
       "      <th>correct ans</th>\n",
       "      <th>Precision</th>\n",
       "      <th>False Answers</th>\n",
       "      <th>True Answers</th>\n",
       "      <th>Null Answers</th>\n",
       "    </tr>\n",
       "  </thead>\n",
       "  <tbody>\n",
       "    <tr>\n",
       "      <th>0</th>\n",
       "      <td>A inicios de enero de 2023, la ministra de Jus...</td>\n",
       "      <td>Verdadero</td>\n",
       "      <td>-</td>\n",
       "      <td>False</td>\n",
       "      <td>0,3846153846</td>\n",
       "      <td>0,6538461538</td>\n",
       "      <td>0,2179487179</td>\n",
       "      <td>0,1282051282</td>\n",
       "    </tr>\n",
       "    <tr>\n",
       "      <th>1</th>\n",
       "      <td>El ministro de Justicia Luis Cordero asume su ...</td>\n",
       "      <td>Verdadero</td>\n",
       "      <td>Falso</td>\n",
       "      <td>False</td>\n",
       "      <td>Prompt</td>\n",
       "      <td>NaN</td>\n",
       "      <td>NaN</td>\n",
       "      <td>NaN</td>\n",
       "    </tr>\n",
       "    <tr>\n",
       "      <th>2</th>\n",
       "      <td>El presidente Boric indulto a 12 condenados po...</td>\n",
       "      <td>Verdadero</td>\n",
       "      <td>Falso</td>\n",
       "      <td>False</td>\n",
       "      <td>¿Es verdad que {news}?</td>\n",
       "      <td>NaN</td>\n",
       "      <td>NaN</td>\n",
       "      <td>NaN</td>\n",
       "    </tr>\n",
       "    <tr>\n",
       "      <th>3</th>\n",
       "      <td>Marcela Ríos se libró de una acusación constit...</td>\n",
       "      <td>Verdadero</td>\n",
       "      <td>Falso</td>\n",
       "      <td>False</td>\n",
       "      <td>NaN</td>\n",
       "      <td>NaN</td>\n",
       "      <td>NaN</td>\n",
       "      <td>NaN</td>\n",
       "    </tr>\n",
       "    <tr>\n",
       "      <th>4</th>\n",
       "      <td>Gabriel Boric Font es un político Chileno que ...</td>\n",
       "      <td>Verdadero</td>\n",
       "      <td>Falso</td>\n",
       "      <td>False</td>\n",
       "      <td>NaN</td>\n",
       "      <td>Precision F</td>\n",
       "      <td>NaN</td>\n",
       "      <td>NaN</td>\n",
       "    </tr>\n",
       "    <tr>\n",
       "      <th>...</th>\n",
       "      <td>...</td>\n",
       "      <td>...</td>\n",
       "      <td>...</td>\n",
       "      <td>...</td>\n",
       "      <td>...</td>\n",
       "      <td>...</td>\n",
       "      <td>...</td>\n",
       "      <td>...</td>\n",
       "    </tr>\n",
       "    <tr>\n",
       "      <th>73</th>\n",
       "      <td>La comisión de expertos tiene un año para elab...</td>\n",
       "      <td>Falso</td>\n",
       "      <td>Verdadero</td>\n",
       "      <td>False</td>\n",
       "      <td>NaN</td>\n",
       "      <td>NaN</td>\n",
       "      <td>NaN</td>\n",
       "      <td>NaN</td>\n",
       "    </tr>\n",
       "    <tr>\n",
       "      <th>74</th>\n",
       "      <td>Claudio Grossman es un miembro del consejo con...</td>\n",
       "      <td>Verdadero</td>\n",
       "      <td>Falso</td>\n",
       "      <td>False</td>\n",
       "      <td>NaN</td>\n",
       "      <td>NaN</td>\n",
       "      <td>NaN</td>\n",
       "      <td>NaN</td>\n",
       "    </tr>\n",
       "    <tr>\n",
       "      <th>75</th>\n",
       "      <td>Estefanía Esparza (Partido Radical) es una mie...</td>\n",
       "      <td>Verdadero</td>\n",
       "      <td>Falso</td>\n",
       "      <td>False</td>\n",
       "      <td>NaN</td>\n",
       "      <td>NaN</td>\n",
       "      <td>NaN</td>\n",
       "      <td>NaN</td>\n",
       "    </tr>\n",
       "    <tr>\n",
       "      <th>76</th>\n",
       "      <td>María Rojas es una miembra del consejo constit...</td>\n",
       "      <td>Falso</td>\n",
       "      <td>Falso</td>\n",
       "      <td>True</td>\n",
       "      <td>NaN</td>\n",
       "      <td>NaN</td>\n",
       "      <td>NaN</td>\n",
       "      <td>NaN</td>\n",
       "    </tr>\n",
       "    <tr>\n",
       "      <th>77</th>\n",
       "      <td>Viviana Urquieta es un miembro del consejo con...</td>\n",
       "      <td>Falso</td>\n",
       "      <td>Falso</td>\n",
       "      <td>True</td>\n",
       "      <td>NaN</td>\n",
       "      <td>NaN</td>\n",
       "      <td>NaN</td>\n",
       "      <td>NaN</td>\n",
       "    </tr>\n",
       "  </tbody>\n",
       "</table>\n",
       "<p>78 rows × 8 columns</p>\n",
       "</div>"
      ],
      "text/plain": [
       "                                                    q true answer    ft-base  \\\n",
       "0   A inicios de enero de 2023, la ministra de Jus...   Verdadero          -   \n",
       "1   El ministro de Justicia Luis Cordero asume su ...   Verdadero      Falso   \n",
       "2   El presidente Boric indulto a 12 condenados po...   Verdadero      Falso   \n",
       "3   Marcela Ríos se libró de una acusación constit...   Verdadero      Falso   \n",
       "4   Gabriel Boric Font es un político Chileno que ...   Verdadero      Falso   \n",
       "..                                                ...         ...        ...   \n",
       "73  La comisión de expertos tiene un año para elab...       Falso  Verdadero   \n",
       "74  Claudio Grossman es un miembro del consejo con...   Verdadero      Falso   \n",
       "75  Estefanía Esparza (Partido Radical) es una mie...   Verdadero      Falso   \n",
       "76  María Rojas es una miembra del consejo constit...       Falso      Falso   \n",
       "77  Viviana Urquieta es un miembro del consejo con...       Falso      Falso   \n",
       "\n",
       "    correct ans               Precision False Answers  True Answers  \\\n",
       "0         False            0,3846153846  0,6538461538  0,2179487179   \n",
       "1         False                  Prompt           NaN           NaN   \n",
       "2         False  ¿Es verdad que {news}?           NaN           NaN   \n",
       "3         False                     NaN           NaN           NaN   \n",
       "4         False                     NaN   Precision F           NaN   \n",
       "..          ...                     ...           ...           ...   \n",
       "73        False                     NaN           NaN           NaN   \n",
       "74        False                     NaN           NaN           NaN   \n",
       "75        False                     NaN           NaN           NaN   \n",
       "76         True                     NaN           NaN           NaN   \n",
       "77         True                     NaN           NaN           NaN   \n",
       "\n",
       "    Null Answers  \n",
       "0   0,1282051282  \n",
       "1            NaN  \n",
       "2            NaN  \n",
       "3            NaN  \n",
       "4            NaN  \n",
       "..           ...  \n",
       "73           NaN  \n",
       "74           NaN  \n",
       "75           NaN  \n",
       "76           NaN  \n",
       "77           NaN  \n",
       "\n",
       "[78 rows x 8 columns]"
      ]
     },
     "execution_count": 3,
     "metadata": {},
     "output_type": "execute_result"
    }
   ],
   "source": [
    "df"
   ]
  },
  {
   "cell_type": "code",
   "execution_count": 4,
   "metadata": {},
   "outputs": [],
   "source": [
    "from langchain_community.embeddings import HuggingFaceEmbeddings\n",
    "embeddings = HuggingFaceEmbeddings(model_name=\"sentence-transformers/paraphrase-multilingual-MiniLM-L12-v2\")"
   ]
  },
  {
   "cell_type": "code",
   "execution_count": 11,
   "metadata": {},
   "outputs": [],
   "source": [
    "vector_db = Milvus(\n",
    "    embeddings,\n",
    "    connection_args={\"uri\":os.getenv(\"MILVUS_ENDPOINT\"), \"token\": os.getenv(\"MILVUS_API_KEY\")},\n",
    "    collection_name=\"News_2023\",\n",
    "    text_field=\"body\" # Set this to the name of your text field\n",
    ")"
   ]
  },
  {
   "cell_type": "code",
   "execution_count": 32,
   "metadata": {},
   "outputs": [],
   "source": [
    "from operator import itemgetter\n",
    "\n",
    "from langchain_core.prompts import ChatPromptTemplate\n",
    "from langchain_community.vectorstores import FAISS\n",
    "from langchain_core.output_parsers import StrOutputParser\n",
    "from langchain_core.runnables import RunnableLambda, RunnablePassthrough\n",
    "from langchain_together import TogetherEmbeddings\n",
    "from langchain_community.llms import Together\n",
    "\n",
    "retriever = vector_db.as_retriever()\n",
    "\n",
    "model = Together(\n",
    "    model=\"mistralai/Mixtral-8x7B-Instruct-v0.1\",\n",
    "    temperature=0,\n",
    "    max_tokens=20,\n",
    "    top_k=50,\n",
    "    together_api_key=os.getenv(\"TOGETHER_API_KEY\")\n",
    ")\n",
    "\n",
    "# Provide a template following the LLM's original chat template.\n",
    "template = \"\"\"<s>[INST] Responde verdadero, falso o no lo se la siguiente afirmacion, usando el siguiente contexto:\n",
    "{context}\n",
    "Solo responde con verdadero, falso o no lo se. Nunca des una explicación a tu respuesta.\n",
    "\n",
    "Afirmacion: {afirmacion} [/INST] \n",
    "\"\"\"\n",
    "prompt = ChatPromptTemplate.from_template(template) \n",
    "\n",
    "# chain = (\n",
    "#     {\"context\": (retriever | (lambda docs: print([d.page_content for d in docs]))), \"afirmacion\": RunnablePassthrough()}\n",
    "#     | prompt\n",
    "#     | model\n",
    "#     | StrOutputParser()\n",
    "# )\n",
    "\n",
    "def get_retrieved_docs(docs):\n",
    "    return [d.page_content for d in docs]\n",
    "\n",
    "chain = (\n",
    "    {\"context\": retriever | get_retrieved_docs,\n",
    "     \"afirmacion\": RunnablePassthrough(),\n",
    "     \"retrieved_docs\": retriever | get_retrieved_docs}\n",
    "    | prompt\n",
    "    | model\n",
    "    | StrOutputParser()\n",
    ")"
   ]
  },
  {
   "cell_type": "code",
   "execution_count": 10,
   "metadata": {},
   "outputs": [],
   "source": [
    "docs = vector_db.similarity_search(df['q'][0])"
   ]
  },
  {
   "cell_type": "code",
   "execution_count": 20,
   "metadata": {},
   "outputs": [],
   "source": [
    "output = chain.invoke('A inicios de enero de 2023, la ministra de Justicia Marcela Ríos renuncia a su cargo por presiones opositoras')"
   ]
  },
  {
   "cell_type": "code",
   "execution_count": 26,
   "metadata": {},
   "outputs": [
    {
     "data": {
      "text/plain": [
       "[Document(page_content='Marcela Ríos deja su cargo como ministra de Justicia Luis Cordero Vega asumirá como nuevo titular de la cartera de Justicia, según explicó el Presidente Gabriel Boric. El Gobierno confirmó este sábado 7 de enero que Marcela Ríos renunció a su cargo como ministra de Justicia. El Presidente de la República, Gabriel Boric, explicó que \"debido a que hubo desprolijidades en la ejecución de mi decisión de conceder indultos y considerando además la necesidad de fortalecer la gestión política del Ministerio de Justicia y Derechos Humanos, he decidido aceptar la renuncia de Marcela Ríos a dicha cartera', metadata={'Auto_id': 448075995546842535, 'title': 'Marcela Ríos deja su cargo como ministra de Justicia', 'uri': '7338639415', 'url': 'https://www.24horas.cl/actualidad/politica/marcela-rios-deja-su-cargo-como-ministra-de-justicia', 'dateTimePub': '2023-01-07 19:41:00+00:00', 'dataType': 'news'}),\n",
       " Document(page_content='Marcela Ríos renuncia al Ministerio de Justicia tras polémicas por indultos y elección de Fiscal Nacional A una semana de la publicación de los indultos por parte del Presidente Gabriel Boric, y tras meses de críticas por su gestión, este sábado se concretó la renuncia de Marcela Ríos al Ministerio de Justicia. El propio Mandatario realizó el anuncio desde el Palacio de La Moneda, en un punto de prensa del que se informó apenas una hora antes. En su comunicación, indicó que el reemplazante será el abogado Luis Cordero Vega. Recordemos que desde Renovación Nacional habían confirmado la presentación de una acusa', metadata={'Auto_id': 448075995546849935, 'title': 'Marcela Ríos renuncia al Ministerio de Justicia tras polémicas por indultos y elección de Fiscal Nacional', 'uri': '7338631758', 'url': 'https://www.adnradio.cl/politica/2023/01/07/marcela-rios-renuncia-al-ministerio-de-justicia-tras-polemicas-por-indultos-y-eleccion-de-fiscal-nacional.html', 'dateTimePub': '2023-01-07 19:31:00+00:00', 'dataType': 'news'}),\n",
       " Document(page_content='próximos días en medio de la bullada renuncia de su predecesora, Marcela Ríos, sobre quien pesó desde su nombramiento el hecho de ser socióloga y no abogada, además de una serie de \"desprolijidades\" -usando las propias palabras del Mandatario ayer en La Moneda-, que la llevarán a enfrentar una acusación constitucional, según anunció la oposición.', metadata={'Auto_id': 448075995546899319, 'title': 'Recomponer relaciones y fortalecer la gestión política: Los desafíos de Luis Cordero, el nuevo ministro de Justicia', 'uri': '7339541698', 'url': 'https://www.emol.com/noticias/Nacional/2023/01/08/1083252/desafios-luis-cordero-ministro-justicia.html', 'dateTimePub': '2023-01-08 13:35:00+00:00', 'dataType': 'news'}),\n",
       " Document(page_content='Las reacciones del mundo político ante salida de Marcela Ríos del Ministerio de Justicia: \"Era evidente y necesaria\" El Presidente de la República, Gabriel Boric, anunció este sábado que aceptó la renuncia de Marcela Ríos como ministra de Justicia. El Presidente de la República, Gabriel Boric, anunció este sábado que aceptó la renuncia de Marcela Ríos como ministra de Justicia. La información que entregó el Mandatario generó diversas reacciones en el mundo político, entre ellas, la de la diputada RN Camila Flores y la del parlamentario UDI Jorge Alessandri. En', metadata={'Auto_id': 448075995546841804, 'title': 'Las reacciones del mundo político ante salida de Marcela Ríos del Ministerio de Justicia: \"Era evidente y necesaria\"', 'uri': '7338710378', 'url': 'https://www.24horas.cl/actualidad/politica/las-reacciones-del-mundo-politico-ante-salida-de-marcela-rios-del-ministerio-de-justicia', 'dateTimePub': '2023-01-07 21:10:00+00:00', 'dataType': 'news'})]"
      ]
     },
     "execution_count": 26,
     "metadata": {},
     "output_type": "execute_result"
    }
   ],
   "source": [
    "retriever.get_relevant_documents('A inicios de enero de 2023, la ministra de Justicia Marcela Ríos renuncia a su cargo por presiones opositoras')"
   ]
  },
  {
   "cell_type": "code",
   "execution_count": 33,
   "metadata": {},
   "outputs": [],
   "source": [
    "import csv\n",
    "import time\n",
    "# Abrir el archivo CSV en modo añadir\n",
    "with open('../Data/resultado3_rag.csv', 'a', newline='') as file:\n",
    "    writer = csv.writer(file)\n",
    "    \n",
    "    # Escribir los encabezados de las columnas (si el archivo está vacío)\n",
    "    if file.tell() == 0:\n",
    "        writer.writerow(['question','True','Predicted', 'docs'])\n",
    "    \n",
    "    # Iterar sobre el DataFrame original\n",
    "    for index, row in df.iterrows():\n",
    "        question = row['q']\n",
    "        true_ans = row['true answer']\n",
    "        output = chain.invoke(question)\n",
    "        docs = retriever.get_relevant_documents(question)\n",
    "        time.sleep(1)\n",
    "        \n",
    "        # Escribir los valores en el archivo CSV\n",
    "        writer.writerow([question,true_ans, output, docs])\n"
   ]
  },
  {
   "cell_type": "code",
   "execution_count": 36,
   "metadata": {},
   "outputs": [
    {
     "name": "stderr",
     "output_type": "stream",
     "text": [
      "/tmp/ipykernel_123294/1745383157.py:6: FutureWarning: Series.__getitem__ treating keys as positions is deprecated. In a future version, integer keys will always be treated as labels (consistent with DataFrame behavior). To access a value by position, use `ser.iloc[pos]`\n",
      "  if row[1].lower() == row[2].lower():\n"
     ]
    },
    {
     "data": {
      "text/plain": [
       "44"
      ]
     },
     "execution_count": 36,
     "metadata": {},
     "output_type": "execute_result"
    }
   ],
   "source": [
    "import pandas as pd\n",
    "\n",
    "df2 = pd.read_csv('../Data/resultado3_rag.csv')\n",
    "j = 0\n",
    "for i,row in df2.iterrows():\n",
    "    if row[1].lower() == row[2].lower():\n",
    "        j+=1\n",
    "\n",
    "j"
   ]
  }
 ],
 "metadata": {
  "kernelspec": {
   "display_name": "Python (py311-micromamba)",
   "language": "python",
   "name": "py311"
  },
  "language_info": {
   "codemirror_mode": {
    "name": "ipython",
    "version": 3
   },
   "file_extension": ".py",
   "mimetype": "text/x-python",
   "name": "python",
   "nbconvert_exporter": "python",
   "pygments_lexer": "ipython3",
   "version": "3.11.7"
  }
 },
 "nbformat": 4,
 "nbformat_minor": 2
}
